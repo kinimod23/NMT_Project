{
 "cells": [
  {
   "cell_type": "code",
   "execution_count": 5,
   "metadata": {
    "collapsed": true
   },
   "outputs": [],
   "source": [
    "import re"
   ]
  },
  {
   "cell_type": "code",
   "execution_count": 19,
   "metadata": {
    "collapsed": true
   },
   "outputs": [],
   "source": [
    "#open text element and show sample\n",
    "with open('/Users/dominik_pfuetze/Desktop/NMT_Project/glove/glove_embeddings/euroen/vocab.txt', 'r', encoding = 'utf-8') as f:\n",
    "    lines = f.read()"
   ]
  },
  {
   "cell_type": "code",
   "execution_count": 20,
   "metadata": {},
   "outputs": [
    {
     "data": {
      "text/plain": [
       "'the 3669478\\nof 1739300\\nto 1615950\\nand 1376109\\nin 1'"
      ]
     },
     "execution_count": 20,
     "metadata": {},
     "output_type": "execute_result"
    }
   ],
   "source": [
    "lines[:50]"
   ]
  },
  {
   "cell_type": "code",
   "execution_count": 21,
   "metadata": {},
   "outputs": [
    {
     "name": "stdout",
     "output_type": "stream",
     "text": [
      "the \n",
      "of \n",
      "to \n",
      "and \n",
      "in \n",
      "that \n",
      "a \n",
      "is \n",
      "for \n",
      "we \n",
      "i \n",
      "this \n",
      "on \n",
      "it \n",
      "be \n",
      "are \n",
      "as \n",
      "have \n",
      "not \n",
      "with \n",
      "which \n",
      "europea\n"
     ]
    }
   ],
   "source": [
    "prep = re.sub(r'\\d', \"\", lines)\n",
    "print(prep[:105])"
   ]
  },
  {
   "cell_type": "code",
   "execution_count": 22,
   "metadata": {},
   "outputs": [],
   "source": [
    "with open(\"elmvocen.txt\", \"w\", encoding = 'utf-8') as file:\n",
    "    file.write('<S>\\n</S>\\n<UNK>\\n'+prep)"
   ]
  }
 ],
 "metadata": {
  "kernelspec": {
   "display_name": "Python 3",
   "language": "python",
   "name": "python3"
  },
  "language_info": {
   "codemirror_mode": {
    "name": "ipython",
    "version": 3
   },
   "file_extension": ".py",
   "mimetype": "text/x-python",
   "name": "python",
   "nbconvert_exporter": "python",
   "pygments_lexer": "ipython3",
   "version": "3.6.2"
  }
 },
 "nbformat": 4,
 "nbformat_minor": 2
}
